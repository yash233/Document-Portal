{
 "cells": [
  {
   "cell_type": "code",
   "execution_count": 1,
   "id": "9c14c551",
   "metadata": {},
   "outputs": [],
   "source": [
    "import sys\n",
    "import traceback\n"
   ]
  },
  {
   "cell_type": "code",
   "execution_count": 6,
   "id": "518276ee",
   "metadata": {},
   "outputs": [
    {
     "ename": "CustomException",
     "evalue": "\n            Error in [/var/folders/js/zj7_tgc163jbv7nrc5gkm2x00000gn/T/ipykernel_45662/856951463.py] at line [29]\n            Message : division by zero\n            Traceback : Traceback (most recent call last):\n  File \"/var/folders/js/zj7_tgc163jbv7nrc5gkm2x00000gn/T/ipykernel_45662/856951463.py\", line 29, in <module>\n    a=1/0\nZeroDivisionError: division by zero\n\n",
     "output_type": "error",
     "traceback": [
      "\u001b[0;31m---------------------------------------------------------------------------\u001b[0m",
      "\u001b[0;31mZeroDivisionError\u001b[0m                         Traceback (most recent call last)",
      "Cell \u001b[0;32mIn[6], line 29\u001b[0m\n\u001b[1;32m     28\u001b[0m \u001b[38;5;28;01mtry\u001b[39;00m:\n\u001b[0;32m---> 29\u001b[0m     a\u001b[38;5;241m=\u001b[39m\u001b[38;5;241;43m1\u001b[39;49m\u001b[38;5;241;43m/\u001b[39;49m\u001b[38;5;241;43m0\u001b[39;49m\n\u001b[1;32m     30\u001b[0m     \u001b[38;5;28mprint\u001b[39m(a)\n",
      "\u001b[0;31mZeroDivisionError\u001b[0m: division by zero",
      "\nDuring handling of the above exception, another exception occurred:\n",
      "\u001b[0;31mCustomException\u001b[0m                           Traceback (most recent call last)",
      "Cell \u001b[0;32mIn[6], line 34\u001b[0m\n\u001b[1;32m     32\u001b[0m app_exception \u001b[38;5;241m=\u001b[39m CustomException(e,sys)\n\u001b[1;32m     33\u001b[0m logger\u001b[38;5;241m.\u001b[39merror(app_exception)\n\u001b[0;32m---> 34\u001b[0m \u001b[38;5;28;01mraise\u001b[39;00m app_exception\n",
      "\u001b[0;31mCustomException\u001b[0m: \n            Error in [/var/folders/js/zj7_tgc163jbv7nrc5gkm2x00000gn/T/ipykernel_45662/856951463.py] at line [29]\n            Message : division by zero\n            Traceback : Traceback (most recent call last):\n  File \"/var/folders/js/zj7_tgc163jbv7nrc5gkm2x00000gn/T/ipykernel_45662/856951463.py\", line 29, in <module>\n    a=1/0\nZeroDivisionError: division by zero\n\n"
     ]
    }
   ],
   "source": [
    "import sys\n",
    "import traceback\n",
    "from logger.custom_logger import CustomLogger\n",
    "\n",
    "logger = CustomLogger().get_logger(\"exception_experiment\")\n",
    "\n",
    "class CustomException(Exception):\n",
    "\n",
    "    def __init__(self, error_message:str, error_details:sys):\n",
    "        _,_,exc_tb=error_details.exc_info()\n",
    "        self.file_name = exc_tb.tb_frame.f_code.co_filename\n",
    "        self.line_no = exc_tb.tb_lineno\n",
    "        self.error_message = str(error_message)\n",
    "        self.traceback_str = ''.join(traceback.format_exception(*error_details.exc_info()))\n",
    "\n",
    "\n",
    "    def __str__(self):\n",
    "\n",
    "        return f\"\"\"\n",
    "            Error in [{self.file_name}] at line [{self.line_no}]\n",
    "            Message : {self.error_message}\n",
    "            Traceback : {self.traceback_str}\n",
    "\"\"\"\n",
    "\n",
    "    \n",
    "\n",
    "if __name__ == \"__main__\":\n",
    "    try:\n",
    "        a=1/0\n",
    "        print(a)\n",
    "    except Exception as e:\n",
    "        app_exception = CustomException(e,sys)\n",
    "        logger.error(app_exception)\n",
    "        raise app_exception"
   ]
  },
  {
   "cell_type": "code",
   "execution_count": null,
   "id": "efff4d71",
   "metadata": {},
   "outputs": [],
   "source": []
  }
 ],
 "metadata": {
  "kernelspec": {
   "display_name": "Python 3",
   "language": "python",
   "name": "python3"
  },
  "language_info": {
   "codemirror_mode": {
    "name": "ipython",
    "version": 3
   },
   "file_extension": ".py",
   "mimetype": "text/x-python",
   "name": "python",
   "nbconvert_exporter": "python",
   "pygments_lexer": "ipython3",
   "version": "3.10.18"
  }
 },
 "nbformat": 4,
 "nbformat_minor": 5
}
